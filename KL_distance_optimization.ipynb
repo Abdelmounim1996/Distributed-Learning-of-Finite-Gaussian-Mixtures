{
  "nbformat": 4,
  "nbformat_minor": 0,
  "metadata": {
    "colab": {
      "name": "KL_distance_optimization.ipynb",
      "provenance": [],
      "authorship_tag": "ABX9TyPw9UsxAn8vxMWgi+fbRsP7",
      "include_colab_link": true
    },
    "kernelspec": {
      "name": "python3",
      "display_name": "Python 3"
    },
    "language_info": {
      "name": "python"
    }
  },
  "cells": [
    {
      "cell_type": "markdown",
      "metadata": {
        "id": "view-in-github",
        "colab_type": "text"
      },
      "source": [
        "<a href=\"https://colab.research.google.com/github/Abdelmounim1996/Distributed-Learning-of-Finite-Gaussian-Mixtures/blob/main/KL_distance_optimization.ipynb\" target=\"_parent\"><img src=\"https://colab.research.google.com/assets/colab-badge.svg\" alt=\"Open In Colab\"/></a>"
      ]
    },
    {
      "cell_type": "code",
      "metadata": {
        "id": "oKTfuD_zQCel"
      },
      "source": [
        "import numpy as np\n",
        "from scipy.linalg import det\n",
        "from math import sqrt\n",
        "\n",
        "from joblib import Parallel, delayed\n",
        "\n",
        "from scipy.linalg import inv , pinv\n",
        "from scipy import linalg\n",
        "np.seterr(all='warn')\n",
        "import time "
      ],
      "execution_count": null,
      "outputs": []
    },
    {
      "cell_type": "code",
      "metadata": {
        "id": "3QHfUFc3QGW1"
      },
      "source": [
        "def generate_params(n_components , d ):\n",
        "  Means = np.random.uniform(0., 10 , (n_components , d))\n",
        "  Covars = np.random.normal(0.1 , 2 , (n_components , d, d))\n",
        "  Covars = 1/2 *(Covars.transpose((0, 2, 1)) + Covars)\n",
        "  Covars.reshape(n_components , -1)[:,::d+1]+= 100\n",
        "  return [Means , Covars] "
      ],
      "execution_count": null,
      "outputs": []
    },
    {
      "cell_type": "code",
      "metadata": {
        "id": "swVLu13SQGaz"
      },
      "source": [
        "n_clusters_1 = 10\n",
        "n_clusters_2 = 10 \n",
        "dim = 784  \n",
        "G1 = generate_params(n_clusters_1 , dim )\n",
        "G2 = generate_params(n_clusters_2 , dim )"
      ],
      "execution_count": null,
      "outputs": []
    },
    {
      "cell_type": "code",
      "metadata": {
        "id": "OVBDXrD-QGdh"
      },
      "source": [
        "Means_1 , Covars_1 = G1\n",
        "Means_2 , Covars_2 = G2"
      ],
      "execution_count": null,
      "outputs": []
    },
    {
      "cell_type": "code",
      "metadata": {
        "colab": {
          "base_uri": "https://localhost:8080/"
        },
        "id": "gB6cBnwmQGfc",
        "outputId": "24cf0de7-9329-4cf2-d39e-5afb067c1210"
      },
      "source": [
        "Covars_1.shape, Covars_2.shape"
      ],
      "execution_count": null,
      "outputs": [
        {
          "output_type": "execute_result",
          "data": {
            "text/plain": [
              "((10, 784, 784), (10, 784, 784))"
            ]
          },
          "metadata": {},
          "execution_count": 5
        }
      ]
    },
    {
      "cell_type": "markdown",
      "metadata": {
        "id": "8F7HsNuKQfKv"
      },
      "source": [
        "Vectorization numpy"
      ]
    },
    {
      "cell_type": "code",
      "metadata": {
        "colab": {
          "base_uri": "https://localhost:8080/"
        },
        "id": "4qBuoarZRo2f",
        "outputId": "b197b1d2-c1fd-4404-f395-0993eca7bc56"
      },
      "source": [
        "pip install memory_profiler"
      ],
      "execution_count": null,
      "outputs": [
        {
          "output_type": "stream",
          "name": "stdout",
          "text": [
            "Collecting memory_profiler\n",
            "  Downloading memory_profiler-0.58.0.tar.gz (36 kB)\n",
            "Requirement already satisfied: psutil in /usr/local/lib/python3.7/dist-packages (from memory_profiler) (5.4.8)\n",
            "Building wheels for collected packages: memory-profiler\n",
            "  Building wheel for memory-profiler (setup.py) ... \u001b[?25l\u001b[?25hdone\n",
            "  Created wheel for memory-profiler: filename=memory_profiler-0.58.0-py3-none-any.whl size=30190 sha256=d83f651a17f686bc13c4b24a01571c1437daaf824c60319997edccb9922e43fc\n",
            "  Stored in directory: /root/.cache/pip/wheels/56/19/d5/8cad06661aec65a04a0d6785b1a5ad035cb645b1772a4a0882\n",
            "Successfully built memory-profiler\n",
            "Installing collected packages: memory-profiler\n",
            "Successfully installed memory-profiler-0.58.0\n"
          ]
        }
      ]
    },
    {
      "cell_type": "code",
      "metadata": {
        "id": "MydPj7t6RwLH"
      },
      "source": [
        "%load_ext memory_profiler"
      ],
      "execution_count": null,
      "outputs": []
    },
    {
      "cell_type": "code",
      "metadata": {
        "colab": {
          "base_uri": "https://localhost:8080/"
        },
        "id": "rdijyy4ZQGhQ",
        "outputId": "83e2a444-e916-4179-f0a2-45af76aaa596"
      },
      "source": [
        "%%time \n",
        "%memit np.linalg.pinv(Covars_1)\n",
        "# advantage work with singular array disadvantage very expensive "
      ],
      "execution_count": null,
      "outputs": [
        {
          "output_type": "stream",
          "name": "stdout",
          "text": [
            "peak memory: 459.18 MiB, increment: 192.21 MiB\n",
            "CPU times: user 7.02 s, sys: 1.59 s, total: 8.6 s\n",
            "Wall time: 4.61 s\n"
          ]
        }
      ]
    },
    {
      "cell_type": "code",
      "metadata": {
        "colab": {
          "base_uri": "https://localhost:8080/"
        },
        "id": "lP5odgoMQGkA",
        "outputId": "0eb96da6-5ba6-4e7e-9f93-b282aec0d617"
      },
      "source": [
        "%%time \n",
        "%memit np.linalg.inv(Covars_1)\n",
        "# disadvantage Not work with singular array advantage speed with inversible matrix "
      ],
      "execution_count": null,
      "outputs": [
        {
          "output_type": "stream",
          "name": "stdout",
          "text": [
            "peak memory: 460.13 MiB, increment: 0.93 MiB\n",
            "CPU times: user 1.07 s, sys: 300 ms, total: 1.38 s\n",
            "Wall time: 805 ms\n"
          ]
        }
      ]
    },
    {
      "cell_type": "code",
      "metadata": {
        "colab": {
          "base_uri": "https://localhost:8080/"
        },
        "id": "YgZLosiaQGmq",
        "outputId": "8603f589-8c1c-4b2a-ca74-b0de464b1385"
      },
      "source": [
        "%%time\n",
        "%memit np.linalg.det(Covars_1)"
      ],
      "execution_count": null,
      "outputs": [
        {
          "output_type": "stream",
          "name": "stderr",
          "text": [
            "/usr/local/lib/python3.7/dist-packages/numpy/linalg/linalg.py:2159: RuntimeWarning: overflow encountered in det\n",
            "  r = _umath_linalg.det(a, signature=signature)\n"
          ]
        },
        {
          "output_type": "stream",
          "name": "stdout",
          "text": [
            "peak memory: 460.47 MiB, increment: 0.34 MiB\n",
            "CPU times: user 637 ms, sys: 333 ms, total: 969 ms\n",
            "Wall time: 615 ms\n"
          ]
        }
      ]
    },
    {
      "cell_type": "markdown",
      "metadata": {
        "id": "TCJHXATWSvoq"
      },
      "source": [
        "# Loop numpy "
      ]
    },
    {
      "cell_type": "code",
      "metadata": {
        "colab": {
          "base_uri": "https://localhost:8080/"
        },
        "id": "Ox0sVmsiQGpf",
        "outputId": "6ca19271-5278-4798-e166-be412603faeb"
      },
      "source": [
        "%%time \n",
        "%memit np.array([np.linalg.pinv(mat) for mat in Covars_1 ])"
      ],
      "execution_count": null,
      "outputs": [
        {
          "output_type": "stream",
          "name": "stdout",
          "text": [
            "peak memory: 460.50 MiB, increment: 0.03 MiB\n",
            "CPU times: user 7.13 s, sys: 1.61 s, total: 8.74 s\n",
            "Wall time: 4.61 s\n"
          ]
        }
      ]
    },
    {
      "cell_type": "code",
      "metadata": {
        "colab": {
          "base_uri": "https://localhost:8080/"
        },
        "id": "K4ab7jtZS_kA",
        "outputId": "d2080376-7aae-4ae0-b6f9-785902280a3b"
      },
      "source": [
        "%%time \n",
        "%memit np.array([np.linalg.inv(mat) for mat in Covars_1 ])"
      ],
      "execution_count": null,
      "outputs": [
        {
          "output_type": "stream",
          "name": "stdout",
          "text": [
            "peak memory: 460.52 MiB, increment: 0.07 MiB\n",
            "CPU times: user 1.12 s, sys: 380 ms, total: 1.5 s\n",
            "Wall time: 893 ms\n"
          ]
        }
      ]
    },
    {
      "cell_type": "markdown",
      "metadata": {
        "id": "9t1uUrItTJUw"
      },
      "source": [
        "# parallel computing\n",
        "\n"
      ]
    },
    {
      "cell_type": "code",
      "metadata": {
        "colab": {
          "base_uri": "https://localhost:8080/"
        },
        "id": "yOmgYn15Tbnm",
        "outputId": "108244ac-320e-4a35-863a-43dcf51e3fae"
      },
      "source": [
        "%%time \n",
        "%memit  Parallel(n_jobs=-1)(delayed( np.linalg.pinv)(mat) for mat in Covars_1 )"
      ],
      "execution_count": null,
      "outputs": [
        {
          "output_type": "stream",
          "name": "stdout",
          "text": [
            "peak memory: 460.82 MiB, increment: 0.30 MiB\n",
            "CPU times: user 205 ms, sys: 191 ms, total: 396 ms\n",
            "Wall time: 4.51 s\n"
          ]
        }
      ]
    },
    {
      "cell_type": "code",
      "metadata": {
        "colab": {
          "base_uri": "https://localhost:8080/"
        },
        "id": "-7LbahJ0TzUg",
        "outputId": "119d284a-7250-4974-844d-bfedcf7c416e"
      },
      "source": [
        "%%time \n",
        "%memit Parallel(n_jobs=-1)(delayed( np.linalg.inv)(mat) for mat in Covars_1 )"
      ],
      "execution_count": null,
      "outputs": [
        {
          "output_type": "stream",
          "name": "stdout",
          "text": [
            "peak memory: 460.82 MiB, increment: 0.00 MiB\n",
            "CPU times: user 131 ms, sys: 99.2 ms, total: 230 ms\n",
            "Wall time: 973 ms\n"
          ]
        }
      ]
    },
    {
      "cell_type": "markdown",
      "metadata": {
        "id": "j7h2cohEUAEn"
      },
      "source": [
        "# SCIPY performance "
      ]
    },
    {
      "cell_type": "code",
      "metadata": {
        "colab": {
          "base_uri": "https://localhost:8080/"
        },
        "id": "nx0_W3ZnT99m",
        "outputId": "8c35df01-5ee3-4d4a-9db7-66deaf0abb8f"
      },
      "source": [
        "%%time \n",
        "%memit  np.array([inv(mat) for mat in Covars_1 ])"
      ],
      "execution_count": null,
      "outputs": [
        {
          "output_type": "stream",
          "name": "stdout",
          "text": [
            "peak memory: 465.05 MiB, increment: 4.22 MiB\n",
            "CPU times: user 1.02 s, sys: 325 ms, total: 1.34 s\n",
            "Wall time: 850 ms\n"
          ]
        }
      ]
    },
    {
      "cell_type": "markdown",
      "metadata": {
        "id": "El3BkTVMVszv"
      },
      "source": [
        "for symetric defini positive matrix "
      ]
    },
    {
      "cell_type": "code",
      "metadata": {
        "id": "EMVJzx1NT-Al"
      },
      "source": [
        "def compute_precision_cholesky(covariances):\n",
        "    n_components, n_features, n_features = covariances.shape\n",
        "    precisions_chol = np.empty((n_components, n_features, n_features))\n",
        "    for k, covariance in enumerate(covariances):\n",
        "        try:\n",
        "            cov_chol = linalg.cholesky(covariance, lower=True)\n",
        "            inv =linalg.solve_triangular(cov_chol, np.eye(n_features), lower=True).T\n",
        "        except linalg.LinAlgError: \n",
        "             raise ValueError(\"chol_not work in array n_: \", k)\n",
        "        precisions_chol[k] = inv\n",
        "    return precisions_chol\n",
        "def det_chol(covariances , chol = False):\n",
        "  n_components , n_features , n_features =  covariances.shape\n",
        "  precisions_chol = np.empty((n_components, n_features, n_features))\n",
        "  if chol :\n",
        "    for k, covariance in enumerate(covariances):\n",
        "        try:\n",
        "            cov_chol = linalg.cholesky(covariance, lower=True)\n",
        "        except linalg.LinAlgError: \n",
        "             raise ValueError(\"chol_not work in array n_: \", k)   \n",
        "        precisions_chol[k] = cov_chol\n",
        "  else :\n",
        "     precisions_chol = covariances \n",
        "  return np.multiply.reduce(precisions_chol.reshape( n_components , -1)[:,::n_features+1 ] , axis=1)"
      ],
      "execution_count": null,
      "outputs": []
    },
    {
      "cell_type": "code",
      "metadata": {
        "colab": {
          "base_uri": "https://localhost:8080/"
        },
        "id": "Cv5W2CGgWCjd",
        "outputId": "8d5a279e-74e6-491c-eb64-924f0fd5ba37"
      },
      "source": [
        "%%time\n",
        "%memit chol = compute_precision_cholesky(Covars_1)"
      ],
      "execution_count": null,
      "outputs": [
        {
          "output_type": "stream",
          "name": "stdout",
          "text": [
            "peak memory: 465.66 MiB, increment: 0.61 MiB\n",
            "CPU times: user 657 ms, sys: 260 ms, total: 917 ms\n",
            "Wall time: 632 ms\n"
          ]
        }
      ]
    },
    {
      "cell_type": "code",
      "metadata": {
        "colab": {
          "base_uri": "https://localhost:8080/"
        },
        "id": "8femjIOjjoYF",
        "outputId": "ac3cbb83-ff0a-4856-987d-34c5ee705dc7"
      },
      "source": [
        "%%time \n",
        "%memit np.multiply.reduce(chol.reshape(80 , -1)[:,::785] , axis=1)"
      ],
      "execution_count": null,
      "outputs": [
        {
          "output_type": "stream",
          "name": "stdout",
          "text": [
            "peak memory: 465.79 MiB, increment: 0.12 MiB\n",
            "CPU times: user 92.6 ms, sys: 113 ms, total: 206 ms\n",
            "Wall time: 262 ms\n"
          ]
        }
      ]
    },
    {
      "cell_type": "markdown",
      "metadata": {
        "id": "e5YBWnMek6cQ"
      },
      "source": [
        "# Performance KL distance"
      ]
    },
    {
      "cell_type": "code",
      "metadata": {
        "id": "0Jzy5Xv4klnU"
      },
      "source": [
        "# first implementation Vectorized numpy code "
      ],
      "execution_count": null,
      "outputs": []
    },
    {
      "cell_type": "code",
      "metadata": {
        "id": "btySaa_3klqL"
      },
      "source": [
        "def KL_Vectorized(G1 , G2):\n",
        "\n",
        "  Means_1 , Covars_1  =G1\n",
        "  Means_2 , Covars_2  =G1\n",
        "\n",
        "  Covars2_det = np.abs(np.linalg.det( Covars_2))\n",
        "  Covars2_inv = np.linalg.inv(Covars_2)\n",
        "  Covars1_det = np.abs(np.linalg.det(Covars_1))\n",
        "\n",
        "  n_features = Means_1.shape[1] ; dis_lst = []\n",
        "  it = 0\n",
        "  for  det ,Means  , Inv_2 in  zip( Covars2_det, Means_2 , Covars2_inv ):\n",
        "    it+= 1\n",
        "    start = time.time()\n",
        "    Mu = Means_1 -Means\n",
        "    dis_lst.append(\\\n",
        "                   0.5*(np.log(det/Covars1_det)+ np.trace(np.dot( Covars_1 , Inv_2 ) , axis1 = 1 , axis2 = 2 )+ np.einsum('ij,ik,kj->i', Mu, Mu, Inv_2) -n_features  )\\\n",
        "                   )\n",
        "    end = time.time()\n",
        "    print(\"iteration : \" , it , \"take : \", end-start, \"s \")\n",
        "  return np.asarray(dis_lst).T\n",
        "\n",
        "  "
      ],
      "execution_count": null,
      "outputs": []
    },
    {
      "cell_type": "code",
      "metadata": {
        "colab": {
          "base_uri": "https://localhost:8080/"
        },
        "id": "Pk1G2vmLkls3",
        "outputId": "44be524e-e5a6-4788-dac2-3b4a5084e99e"
      },
      "source": [
        "%%time\n",
        "%memit KL_Vectorized(G1 , G2 )"
      ],
      "execution_count": null,
      "outputs": [
        {
          "output_type": "stream",
          "name": "stderr",
          "text": [
            "/usr/local/lib/python3.7/dist-packages/numpy/linalg/linalg.py:2159: RuntimeWarning: overflow encountered in det\n",
            "  r = _umath_linalg.det(a, signature=signature)\n",
            "/usr/local/lib/python3.7/dist-packages/ipykernel_launcher.py:16: RuntimeWarning: invalid value encountered in true_divide\n",
            "  app.launch_new_instance()\n"
          ]
        },
        {
          "output_type": "stream",
          "name": "stdout",
          "text": [
            "iteration :  1 take :  5.057668924331665 s \n",
            "iteration :  2 take :  4.674783229827881 s \n",
            "iteration :  3 take :  4.79826283454895 s \n",
            "iteration :  4 take :  4.773270606994629 s \n",
            "iteration :  5 take :  4.9354047775268555 s \n",
            "iteration :  6 take :  4.698847532272339 s \n",
            "iteration :  7 take :  4.677373886108398 s \n",
            "iteration :  8 take :  4.762279510498047 s \n",
            "iteration :  9 take :  4.805227756500244 s \n",
            "iteration :  10 take :  5.424356460571289 s \n",
            "peak memory: 465.87 MiB, increment: 0.08 MiB\n",
            "CPU times: user 50.2 s, sys: 610 ms, total: 50.8 s\n",
            "Wall time: 49.8 s\n"
          ]
        }
      ]
    },
    {
      "cell_type": "markdown",
      "metadata": {
        "id": "PE5kn5519gSq"
      },
      "source": [
        "# Nested loops KL distance "
      ]
    },
    {
      "cell_type": "code",
      "metadata": {
        "id": "IfUnp6eW87q7"
      },
      "source": [
        "def Gaussian_distance(mu1, mu2, Sigma1, Sigma2):\n",
        "  d = mu1.shape[0]\n",
        "  Sigma2_inv = np.linalg.inv(Sigma2)\n",
        "  log_det = -(np.log(np.linalg.eigvals(Sigma2_inv)).sum() + np.log(np.linalg.eigvals(Sigma1)).sum())\n",
        "  trace = np.matrix.trace(Sigma2_inv.dot(Sigma1))\n",
        "  quadratic_term = (mu2 - mu1).T.dot(Sigma2_inv).dot(mu2 - mu1)\n",
        "  return .5 * (log_det + trace + quadratic_term - d)"
      ],
      "execution_count": null,
      "outputs": []
    },
    {
      "cell_type": "code",
      "metadata": {
        "colab": {
          "base_uri": "https://localhost:8080/"
        },
        "id": "JEXsHp3h8VdL",
        "outputId": "b4b7887b-fd89-49ed-bbc9-b0d3ec9d038c"
      },
      "source": [
        "%%time \n",
        "ls=[]\n",
        "it = 0\n",
        "for mu1, Sigma1 in zip(Means_1, Covars_1):\n",
        "  start = time.time()\n",
        "  ls.append( [Gaussian_distance(mu1, mu2, Sigma1, Sigma2) for mu2, Sigma2 in zip(Means_2, Covars_2) ] )\n",
        "  it+=1\n",
        "  end = time.time()\n",
        "  print(\"iteration : \" , it , \"take : \", end-start, \"s \")\n"
      ],
      "execution_count": null,
      "outputs": [
        {
          "output_type": "stream",
          "name": "stdout",
          "text": [
            "iteration :  1 take :  15.200534105300903 s \n",
            "iteration :  2 take :  15.050174474716187 s \n",
            "iteration :  3 take :  15.105452299118042 s \n",
            "iteration :  4 take :  15.172537803649902 s \n",
            "iteration :  5 take :  15.014572620391846 s \n",
            "iteration :  6 take :  15.364394426345825 s \n",
            "iteration :  7 take :  14.86424446105957 s \n",
            "iteration :  8 take :  15.486286878585815 s \n",
            "iteration :  9 take :  15.275287866592407 s \n",
            "iteration :  10 take :  15.112645149230957 s \n",
            "CPU times: user 3min 21s, sys: 1min 37s, total: 4min 58s\n",
            "Wall time: 2min 31s\n"
          ]
        }
      ]
    },
    {
      "cell_type": "code",
      "metadata": {
        "id": "warQ2nwzMzAE"
      },
      "source": [
        "def KL_cholskey(G1 , G2):\n",
        "\n",
        "  Means_1 , Covars_1  =G1\n",
        "  Means_2 , Covars_2  =G1\n",
        "\n",
        "  Covars2_inv = compute_precision_cholesky(Covars_2)\n",
        "  Covars2_det = 1/np.abs(det_chol(Covars_2))\n",
        "  Covars1_det = np.abs(det_chol(Covars_1 , chol= True))\n",
        "\n",
        "  n_features = Means_1.shape[1] ; dis_lst = []\n",
        "  it = 0\n",
        "  for  det ,Means  , Inv_2 in  zip( Covars2_det, Means_2 , Covars2_inv ):\n",
        "    it+= 1\n",
        "    start = time.time()\n",
        "    Mu = Means_1 -Means\n",
        "    dis_lst.append(\\\n",
        "                   0.5*(np.log(det/Covars1_det)+ np.trace(np.dot( Covars_1 , Inv_2 ) , axis1 = 1 , axis2 = 2 )+ np.einsum('ij,ik,kj->i', Mu, Mu, Inv_2) -n_features  )\\\n",
        "                   )\n",
        "    end = time.time()\n",
        "    print(\"iteration : \" , it , \"take : \", end-start, \"s \")\n",
        "  return np.asarray(dis_lst).T"
      ],
      "execution_count": null,
      "outputs": []
    },
    {
      "cell_type": "code",
      "metadata": {
        "colab": {
          "base_uri": "https://localhost:8080/"
        },
        "id": "5MV--slmPWqV",
        "outputId": "137c1551-ef47-4669-c838-0bf73e14f3c0"
      },
      "source": [
        "%%time\n",
        "%memit KL_cholskey(G1 , G2 )"
      ],
      "execution_count": null,
      "outputs": [
        {
          "output_type": "stream",
          "name": "stderr",
          "text": [
            "/usr/local/lib/python3.7/dist-packages/ipykernel_launcher.py:24: RuntimeWarning: overflow encountered in reduce\n",
            "/usr/local/lib/python3.7/dist-packages/ipykernel_launcher.py:16: RuntimeWarning: divide by zero encountered in log\n",
            "  app.launch_new_instance()\n"
          ]
        },
        {
          "output_type": "stream",
          "name": "stdout",
          "text": [
            "iteration :  1 take :  5.255194664001465 s \n",
            "iteration :  2 take :  4.783926963806152 s \n",
            "iteration :  3 take :  4.795875549316406 s \n",
            "iteration :  4 take :  4.721572160720825 s \n",
            "iteration :  5 take :  4.623763561248779 s \n",
            "iteration :  6 take :  4.752767324447632 s \n",
            "iteration :  7 take :  4.571815729141235 s \n",
            "iteration :  8 take :  4.7560200691223145 s \n",
            "iteration :  9 take :  4.731496810913086 s \n",
            "iteration :  10 take :  5.2347612380981445 s \n",
            "peak memory: 466.28 MiB, increment: 0.04 MiB\n",
            "CPU times: user 49.1 s, sys: 536 ms, total: 49.6 s\n",
            "Wall time: 49 s\n"
          ]
        }
      ]
    },
    {
      "cell_type": "code",
      "metadata": {
        "id": "HhJ2oNMuZrvP"
      },
      "source": [
        "def KL_cholskey(G1 , G2):\n",
        "\n",
        "  Means_1 , Covars_1  = G1\n",
        "  Means_2 , Covars_2  = G1\n",
        "\n",
        "  Covars2_inv = compute_precision_cholesky(Covars_2)\n",
        "  Covars2_det = 1/np.abs(det_chol(Covars_2))\n",
        "  Covars1_det = np.abs(det_chol(Covars_1 , chol= True))\n",
        "\n",
        "  n_features = Means_1.shape[1] ; dis_lst = []\n",
        "  it = 0\n",
        "  for  det ,Means  , Inv_2 in  zip( Covars2_det, Means_2 , Covars2_inv ):\n",
        "    it+= 1\n",
        "    start = time.time()\n",
        "    Mu = Means_1 -Means\n",
        "    dis_lst.append(\\\n",
        "                   0.5*(np.log(det/Covars1_det)+ np.trace(np.dot( Covars_1 , Inv_2 ) , axis1 = 1 , axis2 = 2 )+ np.sum(np.linalg.solve(np.linalg.cholesky(Inv_2), Mu.T)**2, axis=0) -n_features  )\\\n",
        "                   )\n",
        "    end = time.time()\n",
        "    print(\"iteration : \" , it , \"take : \", end-start, \"s \")\n",
        "  return np.asarray(dis_lst).T"
      ],
      "execution_count": null,
      "outputs": []
    },
    {
      "cell_type": "code",
      "metadata": {
        "colab": {
          "base_uri": "https://localhost:8080/"
        },
        "id": "EMgWOv_9SNnt",
        "outputId": "947cbe2d-a627-46ee-ea15-a8139d8be34f"
      },
      "source": [
        "%%time\n",
        "%memit args = KL_cholskey(G1 , G2)"
      ],
      "execution_count": null,
      "outputs": [
        {
          "output_type": "stream",
          "name": "stderr",
          "text": [
            "/usr/local/lib/python3.7/dist-packages/ipykernel_launcher.py:24: RuntimeWarning: overflow encountered in reduce\n",
            "/usr/local/lib/python3.7/dist-packages/ipykernel_launcher.py:16: RuntimeWarning: divide by zero encountered in log\n",
            "  app.launch_new_instance()\n"
          ]
        },
        {
          "output_type": "stream",
          "name": "stdout",
          "text": [
            "iteration :  1 take :  5.259395122528076 s \n",
            "iteration :  2 take :  4.74971866607666 s \n",
            "iteration :  3 take :  4.611987590789795 s \n",
            "iteration :  4 take :  4.961650609970093 s \n",
            "iteration :  5 take :  4.706448078155518 s \n",
            "iteration :  6 take :  4.6860740184783936 s \n",
            "iteration :  7 take :  4.717453956604004 s \n",
            "iteration :  8 take :  4.890672445297241 s \n",
            "iteration :  9 take :  4.902123928070068 s \n",
            "iteration :  10 take :  5.180621862411499 s \n",
            "peak memory: 466.39 MiB, increment: 0.10 MiB\n",
            "CPU times: user 50 s, sys: 1.6 s, total: 51.6 s\n",
            "Wall time: 49.4 s\n"
          ]
        }
      ]
    },
    {
      "cell_type": "code",
      "metadata": {
        "colab": {
          "base_uri": "https://localhost:8080/"
        },
        "id": "eKI5bLn2GXaD",
        "outputId": "068ac0c0-ce74-45d8-f672-5b0b298dd2d7"
      },
      "source": [
        "args"
      ],
      "execution_count": null,
      "outputs": [
        {
          "output_type": "execute_result",
          "data": {
            "text/plain": [
              "array([[-inf, -inf, -inf, -inf, -inf, -inf, -inf, -inf, -inf, -inf],\n",
              "       [-inf, -inf, -inf, -inf, -inf, -inf, -inf, -inf, -inf, -inf],\n",
              "       [-inf, -inf, -inf, -inf, -inf, -inf, -inf, -inf, -inf, -inf],\n",
              "       [-inf, -inf, -inf, -inf, -inf, -inf, -inf, -inf, -inf, -inf],\n",
              "       [-inf, -inf, -inf, -inf, -inf, -inf, -inf, -inf, -inf, -inf],\n",
              "       [-inf, -inf, -inf, -inf, -inf, -inf, -inf, -inf, -inf, -inf],\n",
              "       [-inf, -inf, -inf, -inf, -inf, -inf, -inf, -inf, -inf, -inf],\n",
              "       [-inf, -inf, -inf, -inf, -inf, -inf, -inf, -inf, -inf, -inf],\n",
              "       [-inf, -inf, -inf, -inf, -inf, -inf, -inf, -inf, -inf, -inf],\n",
              "       [-inf, -inf, -inf, -inf, -inf, -inf, -inf, -inf, -inf, -inf]])"
            ]
          },
          "metadata": {},
          "execution_count": 28
        }
      ]
    },
    {
      "cell_type": "code",
      "metadata": {
        "id": "UDAcC_klRiru"
      },
      "source": [
        "def Parallel_KL(GMM_AVG , GMM_reduce ):\n",
        "  # stock params \n",
        "  Means_AVG , Covars_AVG = GMM_AVG ; GMM_AVG = None \n",
        "  Means_reduce , Covars_reduce = GMM_reduce ; GMM_reduce = None \n",
        "  # getting shape \n",
        "  n_components_AVG ,n_features =  Means_AVG.shape\n",
        "  n_components_reduce ,n_features =  Means_AVG.shape\n",
        "  # useful params avg \n",
        "  Inv_AVG = Inv_cholesky(Covars_AVG)\n",
        "  det_AVG = np.multiply.reduce( np.linalg.cholesky(Covars_AVG).reshape(n_components_AVG , -1 )[:, ::n_features+1], axis=1)**2;  Covars_AVG = None\n",
        "  # useful params reduce \n",
        "  det_reduce = np.multiply.reduce( np.linalg.cholesky(Covars_reduce).reshape(n_components_reduce , -1 )[:, ::n_features+1], axis=1)**2\n",
        "  # parallel loops 4 cores \n",
        "  parallel_args = Parallel(n_jobs=-1)(delayed(lambda x, y ,z :\n",
        "                                              0.5*( np.log(np.abs(x/det_reduce))+\\\n",
        "                                                   np.trace(np.dot(Covars_reduce , S ) , axis1 = 1 , axis2 = 2 )+\\\n",
        "                                                   np.sum(np.linalg.solve(np.linalg.cholesky(S), (Means_reduce - mu ).T)**2, axis=0) -n_features)\n",
        "                                              )(det, mu , S) for det, mu , S in zip(det_AVG , Means_AVG ,Inv_AVG   ))\n",
        "  \n",
        "  return parallel_args\n",
        "  \n",
        "\n",
        "\n",
        "def Inv_cholesky(covariances):\n",
        "    n_components, n_features, n_features = covariances.shape\n",
        "    precisions_chol = np.empty((n_components, n_features, n_features))\n",
        "    for k, covariance in enumerate(covariances):\n",
        "        try:\n",
        "            cov_chol = linalg.cholesky(covariance, lower=True)\n",
        "            inv =linalg.solve_triangular(cov_chol, np.eye(n_features), lower=True).T\n",
        "        except linalg.LinAlgError: \n",
        "             raise ValueError(\"chol_not work in array n_: \", k)\n",
        "        precisions_chol[k] = inv\n",
        "    return precisions_chol\n",
        "def det_chol(covariances , chol = False):\n",
        "  n_components , n_features , n_features =  covariances.shape\n",
        "  precisions_chol = np.empty((n_components, n_features, n_features))\n",
        "  if chol :\n",
        "    for k, covariance in enumerate(covariances):\n",
        "        try:\n",
        "            cov_chol = linalg.cholesky(covariance, lower=True)\n",
        "        except linalg.LinAlgError: \n",
        "             raise ValueError(\"chol_not work in array n_: \", k)   \n",
        "        precisions_chol[k] = cov_chol\n",
        "  else :\n",
        "     precisions_chol = covariances \n",
        "  return np.multiply.reduce(precisions_chol.reshape( n_components , -1)[:,::n_features+1 ] , axis=1)\n",
        "\n",
        "\n",
        "\n"
      ],
      "execution_count": null,
      "outputs": []
    },
    {
      "cell_type": "code",
      "metadata": {
        "colab": {
          "base_uri": "https://localhost:8080/"
        },
        "id": "sJa0cy-UFm7z",
        "outputId": "82b0befc-9abd-42d7-bd06-81ed00ce8945"
      },
      "source": [
        "%%time\n",
        " args = Parallel_KL(G1 , G2 )"
      ],
      "execution_count": null,
      "outputs": [
        {
          "output_type": "stream",
          "name": "stderr",
          "text": [
            "/usr/local/lib/python3.7/dist-packages/ipykernel_launcher.py:10: RuntimeWarning: overflow encountered in reduce\n",
            "  # Remove the CWD from sys.path while we load stuff.\n",
            "/usr/local/lib/python3.7/dist-packages/ipykernel_launcher.py:12: RuntimeWarning: overflow encountered in reduce\n",
            "  if sys.path[0] == '':\n"
          ]
        },
        {
          "output_type": "stream",
          "name": "stdout",
          "text": [
            "CPU times: user 1.34 s, sys: 510 ms, total: 1.85 s\n",
            "Wall time: 51.8 s\n"
          ]
        }
      ]
    },
    {
      "cell_type": "code",
      "metadata": {
        "id": "8ls6hNGiG1b3"
      },
      "source": [
        ""
      ],
      "execution_count": null,
      "outputs": []
    }
  ]
}