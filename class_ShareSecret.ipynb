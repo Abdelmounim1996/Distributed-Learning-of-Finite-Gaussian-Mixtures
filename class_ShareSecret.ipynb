{
  "nbformat": 4,
  "nbformat_minor": 0,
  "metadata": {
    "colab": {
      "name": "class_ShareSecret.ipynb",
      "provenance": [],
      "authorship_tag": "ABX9TyN7W90VZ+J2XVjZ3J+ycux2",
      "include_colab_link": true
    },
    "kernelspec": {
      "name": "python3",
      "display_name": "Python 3"
    },
    "language_info": {
      "name": "python"
    }
  },
  "cells": [
    {
      "cell_type": "markdown",
      "metadata": {
        "id": "view-in-github",
        "colab_type": "text"
      },
      "source": [
        "<a href=\"https://colab.research.google.com/github/Abdelmounim1996/Distributed-Learning-of-Finite-Gaussian-Mixtures/blob/main/class_ShareSecret.ipynb\" target=\"_parent\"><img src=\"https://colab.research.google.com/assets/colab-badge.svg\" alt=\"Open In Colab\"/></a>"
      ]
    },
    {
      "cell_type": "code",
      "execution_count": 59,
      "metadata": {
        "id": "xYip8KK8tniI"
      },
      "outputs": [],
      "source": [
        "# library \n",
        "import numpy as np\n",
        "from functools import reduce\n",
        "import random\n",
        "from decimal import *\n",
        "\n",
        "# Implementing Shamir's Secret Sharing Scheme\n",
        "\n",
        "class ShareSecret :\n",
        "\n",
        "  def __init__(self ,  field_size : int , participantes : int , threshold : int  ):\n",
        "    self.field_size = field_size \n",
        "    self.threshold = threshold\n",
        "    self.participantes = participantes\n",
        "    if self.participantes< self.threshold :\n",
        "      raise ValueError('threshold number larger than participantes impossible !!!!!!!!!!!!!!!!!! ')\n",
        "\n",
        "  def main(self , secret : int  ) :\n",
        "    self.secret = secret\n",
        "    if isinstance(self.secret, int ):\n",
        "      print('The Secret is :', self.secret)\n",
        "      self.coefficient()\n",
        "      self.generate_Shares() \n",
        "      print('\\nShares:', *self.shares)\n",
        "      args = random.sample(self.shares, self.threshold) \n",
        "      print('\\nCombining shares:', *args) \n",
        "      print(\"Reconstructed secret:\", self.reconstructSecret(args))\n",
        "      \n",
        "    else :\n",
        "      raise ValueError('Invalid value for secret : %s' %secret )\n",
        "      \n",
        "\n",
        "\n",
        "  def coefficient(self):\n",
        "    coeff = random.choices(range(self.field_size) , k = self.threshold-1)\n",
        "    coeff.append(self.secret)\n",
        "    coeff.reverse() \n",
        "    self.coeff = coeff \n",
        "\n",
        "  def polynom(self, x):\n",
        "    return np.polynomial.polynomial.polyval(x, self.coeff)\n",
        "\n",
        "  def generate_Shares(self):\n",
        "    r = random.choices(range(1, self.field_size ) , k=self.participantes)\n",
        "    self.shares =   list(map(lambda r : [r , int(self.polynom(r)) ] ,  r ))\n",
        "\n",
        "  def reconstructSecret(self , shares ): \n",
        "\n",
        "    sums = 0 \n",
        "    X = list(map(lambda x : x[0], shares)) \n",
        "    Y = list(map(lambda x : x[1], shares))\n",
        "    length_shares = len(shares)\n",
        "    for k in range(length_shares ): \n",
        "        X_sub = X[:k] + X[k+1:]    \n",
        "        prod = reduce(lambda x, y: x * y, map(lambda x : Decimal(Decimal(x)/(x-X[k])) ,X_sub ))\n",
        "        prod *= Y[k] \n",
        "        sums += prod\n",
        "    return int(round(Decimal(sums),0))\n",
        "\n"
      ]
    },
    {
      "cell_type": "code",
      "source": [
        "field_size = 10**5\n",
        "participantes , threshold =  8 , 3\n",
        "secret = 122\n",
        "obj = ShareSecret(field_size ,participantes , threshold)\n",
        "obj.main(secret)"
      ],
      "metadata": {
        "colab": {
          "base_uri": "https://localhost:8080/"
        },
        "id": "0kw1yFrs4Sbs",
        "outputId": "36e5d65a-1cc5-4980-d831-3a93f8323923"
      },
      "execution_count": 58,
      "outputs": [
        {
          "output_type": "stream",
          "name": "stdout",
          "text": [
            "The Secret is : 122\n",
            "\n",
            "Shares: [62443, 270480790155865] [31663, 69547654779565] [23897, 39616068382303] [14379, 14343621175193] [52552, 191579588441698] [10497, 7644471457703] [4879, 1651753975693] [79401, 437339568198767]\n",
            "\n",
            "Combining shares: [14379, 14343621175193] [79401, 437339568198767] [62443, 270480790155865]\n",
            "Reconstructed secret: 122\n"
          ]
        }
      ]
    }
  ]
}